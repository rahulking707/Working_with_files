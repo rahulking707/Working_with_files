{
 "cells": [
  {
   "cell_type": "code",
   "execution_count": 1,
   "id": "75734f89",
   "metadata": {},
   "outputs": [
    {
     "name": "stderr",
     "output_type": "stream",
     "text": [
      "IOPub data rate exceeded.\n",
      "The notebook server will temporarily stop sending output\n",
      "to the client in order to avoid crashing it.\n",
      "To change this limit, set the config variable\n",
      "`--NotebookApp.iopub_data_rate_limit`.\n",
      "\n",
      "Current values:\n",
      "NotebookApp.iopub_data_rate_limit=1000000.0 (bytes/sec)\n",
      "NotebookApp.rate_limit_window=3.0 (secs)\n",
      "\n"
     ]
    }
   ],
   "source": [
    "import csv\n",
    "with open(\"amazon_jobs_dataset.csv\", \"r\", encoding=\"utf-8\") as file_prj:\n",
    "    data_file = csv.reader(file_prj, skipinitialspace=True)\n",
    "    for row in data_file:\n",
    "        print()"
   ]
  },
  {
   "cell_type": "code",
   "execution_count": 18,
   "id": "917c0438",
   "metadata": {},
   "outputs": [
    {
     "name": "stdout",
     "output_type": "stream",
     "text": [
      "Total count of Computer Vision Applied Scientist: 1\n",
      "Total count of Computer Vision and Deep Learning Research Scientist: 1\n"
     ]
    }
   ],
   "source": [
    "import csv\n",
    "with open(\"amazon_jobs_dataset.csv\", \"r\", encoding=\"utf-8\") as file_prj:\n",
    "    data_file = csv.reader(file_prj, skipinitialspace=True)\n",
    "    count=0\n",
    "    count1=0\n",
    "    for row in data_file:\n",
    "        if row[1]==\"Computer Vision Applied Scientist\":\n",
    "            count+=1\n",
    "            print(\"Total count of Computer Vision Applied Scientist:\",count)\n",
    "    \n",
    "        elif row[1]==\"Computer Vision and Deep Learning Research Scientist\":\n",
    "            count1+=1\n",
    "            print(\"Total count of Computer Vision and Deep Learning Research Scientist:\",count)\n",
    "        \n",
    "        else:\n",
    "            pass"
   ]
  },
  {
   "cell_type": "code",
   "execution_count": 24,
   "id": "f3db7b5c",
   "metadata": {},
   "outputs": [
    {
     "name": "stdout",
     "output_type": "stream",
     "text": [
      "Total count of Computer Vision Applied Scientist: 1\n",
      "Total count of Computer Vision and Deep Learning Research Scientist: 1\n"
     ]
    }
   ],
   "source": [
    "import csv\n",
    "with open(\"amazon_jobs_dataset.csv\", \"r\", encoding=\"utf-8\") as file_prj:\n",
    "    data_file = csv.DictReader(file_prj, skipinitialspace=True)\n",
    "    li=list(data_file)\n",
    "count=0\n",
    "count1=0\n",
    "for row in li:\n",
    "    if row[\"Title\"]==\"Computer Vision Applied Scientist\":\n",
    "        count+=1\n",
    "        print(\"Total count of Computer Vision Applied Scientist:\",count)\n",
    "    \n",
    "    elif row[\"Title\"]==\"Computer Vision and Deep Learning Research Scientist\":\n",
    "        count1+=1\n",
    "        print(\"Total count of Computer Vision and Deep Learning Research Scientist:\",count)\n",
    "        \n",
    "    else:\n",
    "        pass"
   ]
  },
  {
   "cell_type": "code",
   "execution_count": null,
   "id": "ec4398b1",
   "metadata": {},
   "outputs": [],
   "source": []
  }
 ],
 "metadata": {
  "kernelspec": {
   "display_name": "Python 3 (ipykernel)",
   "language": "python",
   "name": "python3"
  },
  "language_info": {
   "codemirror_mode": {
    "name": "ipython",
    "version": 3
   },
   "file_extension": ".py",
   "mimetype": "text/x-python",
   "name": "python",
   "nbconvert_exporter": "python",
   "pygments_lexer": "ipython3",
   "version": "3.11.4"
  }
 },
 "nbformat": 4,
 "nbformat_minor": 5
}
