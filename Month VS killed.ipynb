{
 "cells": [
  {
   "cell_type": "code",
   "execution_count": 12,
   "id": "c1b25982",
   "metadata": {},
   "outputs": [
    {
     "name": "stdout",
     "output_type": "stream",
     "text": [
      "{1: 2275, 2: 2027, 3: 2463, 4: 2142, 5: 2936, 6: 2506, 7: 2228, 8: 2145, 9: 1764, 10: 2580, 11: 2014, 12: 1365}\n"
     ]
    }
   ],
   "source": [
    "# Month VS killed\n",
    "import csv\n",
    "with open(\"year2017.csv\",\"r\") as file_obj:\n",
    "    file_data=csv.DictReader(file_obj,skipinitialspace=True)\n",
    "    file_list=list(file_data)\n",
    "month_killed={}\n",
    "for row in file_list:\n",
    "    key=row[\"Month\"]\n",
    "    value=row[\"Killed\"]\n",
    "    if key!=\"\":\n",
    "        key=int((float(key)))\n",
    "    else:\n",
    "        key=0\n",
    "    \n",
    "    if value!=\"\":\n",
    "        value=int(float(value))\n",
    "    else:\n",
    "        value=0\n",
    "    if key in month_killed:\n",
    "        month_killed[key]+=value\n",
    "    else:\n",
    "        month_killed[key]=value\n",
    "month_killed\n",
    "print(month_killed)"
   ]
  },
  {
   "cell_type": "code",
   "execution_count": null,
   "id": "0c5d8a17",
   "metadata": {},
   "outputs": [],
   "source": []
  }
 ],
 "metadata": {
  "kernelspec": {
   "display_name": "Python 3 (ipykernel)",
   "language": "python",
   "name": "python3"
  },
  "language_info": {
   "codemirror_mode": {
    "name": "ipython",
    "version": 3
   },
   "file_extension": ".py",
   "mimetype": "text/x-python",
   "name": "python",
   "nbconvert_exporter": "python",
   "pygments_lexer": "ipython3",
   "version": "3.11.4"
  }
 },
 "nbformat": 4,
 "nbformat_minor": 5
}
