{
 "cells": [
  {
   "cell_type": "code",
   "execution_count": 5,
   "id": "7d942f5f",
   "metadata": {},
   "outputs": [
    {
     "name": "stdout",
     "output_type": "stream",
     "text": [
      "3493\n"
     ]
    }
   ],
   "source": [
    "import csv\n",
    "with open(\"amazon_jobs_dataset.csv\", \"r\", encoding=\"utf-8\") as file_prj:\n",
    "    data_file = csv.reader(file_prj, skipinitialspace=True)\n",
    "    list_file = list(data_file)\n",
    "job_location=[]\n",
    "for row in list_file[1:]:\n",
    "    val=row[2]\n",
    "    if val==\"IN,KA,Bangalore\":\n",
    "        pass\n",
    "        \n",
    "    else:\n",
    "        job_location.append(val)\n",
    "        \n",
    "print(len(job_location))\n",
    "\n",
    "        \n",
    "    \n",
    "\n",
    "# print(\"Total Number of jobs open in US,WA,Seattle:::\",(job_location))\n",
    "\n"
   ]
  },
  {
   "cell_type": "code",
   "execution_count": 1,
   "id": "bd9adc71",
   "metadata": {},
   "outputs": [
    {
     "data": {
      "text/plain": [
       "[]"
      ]
     },
     "execution_count": 1,
     "metadata": {},
     "output_type": "execute_result"
    }
   ],
   "source": [
    "import csv\n",
    "with open(\"amazon_jobs_dataset.csv\", \"r\", encoding=\"utf-8\") as file_prj:\n",
    "    data_file = csv.reader(file_prj, skipinitialspace=True)\n",
    "    list_file = list(data_file)\n",
    "job_location=[]\n",
    "for row in list_file[1:]:\n",
    "    val=row[2]\n",
    "    if val==\"US,WA,Seattle\":\n",
    "        job_location.append(val)\n",
    "    else:\n",
    "        pass\n",
    "job_location\n",
    "        \n"
   ]
  },
  {
   "cell_type": "code",
   "execution_count": null,
   "id": "a5ed19fc",
   "metadata": {},
   "outputs": [],
   "source": []
  },
  {
   "cell_type": "code",
   "execution_count": null,
   "id": "a1dec93e",
   "metadata": {},
   "outputs": [],
   "source": []
  },
  {
   "cell_type": "code",
   "execution_count": null,
   "id": "0273e623",
   "metadata": {},
   "outputs": [],
   "source": []
  }
 ],
 "metadata": {
  "kernelspec": {
   "display_name": "Python 3 (ipykernel)",
   "language": "python",
   "name": "python3"
  },
  "language_info": {
   "codemirror_mode": {
    "name": "ipython",
    "version": 3
   },
   "file_extension": ".py",
   "mimetype": "text/x-python",
   "name": "python",
   "nbconvert_exporter": "python",
   "pygments_lexer": "ipython3",
   "version": "3.11.4"
  }
 },
 "nbformat": 4,
 "nbformat_minor": 5
}
