{
 "cells": [
  {
   "cell_type": "code",
   "execution_count": 2,
   "id": "cc5141d7",
   "metadata": {},
   "outputs": [
    {
     "name": "stdout",
     "output_type": "stream",
     "text": [
      "Total People killed or wounded in India in 2017:: 1167.0\n",
      "Total people killed or wounded all over the world in 2017 51372.0\n"
     ]
    }
   ],
   "source": [
    "import csv\n",
    "import numpy as np\n",
    "with open(\"year2017.csv\",\"r\") as file_object:\n",
    "    file_data=csv.DictReader(file_object,skipinitialspace=True)\n",
    "    file=list(file_data)\n",
    "killed=[]\n",
    "wounded=[]\n",
    "country=[]\n",
    "for row in file:\n",
    "    killed.append(row[\"Killed\"])\n",
    "    wounded.append(row[\"Wounded\"])\n",
    "    country.append(row[\"Country\"])\n",
    "np_killed=np.array(killed)\n",
    "np_wounded=np.array(wounded)\n",
    "\n",
    "np_killed[np_killed==\"\"]=0.0\n",
    "np_wounded[np_wounded==\"\"]=0.0\n",
    "\n",
    "\n",
    "np_killed=np.array(np_killed,dtype=float)\n",
    "np_wounded=np.array(np_wounded,dtype=float)\n",
    "\n",
    "killed_wounded=np_killed+np_wounded\n",
    "killed_wounded\n",
    "\n",
    "np_country=np.array(country)\n",
    "np_country=np_country==\"India\"\n",
    "bool_arr=np_country\n",
    "ans=killed_wounded[bool_arr]\n",
    "print(\"Total People killed or wounded in India in 2017::\",np.sum(ans))\n",
    "print(\"Total people killed or wounded all over the world in 2017\",np.sum(killed_wounded))"
   ]
  },
  {
   "cell_type": "code",
   "execution_count": null,
   "id": "13c73f30",
   "metadata": {},
   "outputs": [],
   "source": []
  }
 ],
 "metadata": {
  "kernelspec": {
   "display_name": "Python 3 (ipykernel)",
   "language": "python",
   "name": "python3"
  },
  "language_info": {
   "codemirror_mode": {
    "name": "ipython",
    "version": 3
   },
   "file_extension": ".py",
   "mimetype": "text/x-python",
   "name": "python",
   "nbconvert_exporter": "python",
   "pygments_lexer": "ipython3",
   "version": "3.11.4"
  }
 },
 "nbformat": 4,
 "nbformat_minor": 5
}
