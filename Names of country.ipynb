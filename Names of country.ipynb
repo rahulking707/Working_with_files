{
 "cells": [
  {
   "cell_type": "code",
   "execution_count": 5,
   "id": "e044cba0",
   "metadata": {},
   "outputs": [
    {
     "name": "stdout",
     "output_type": "stream",
     "text": [
      "Afghanistan\n",
      "Sudan\n",
      "Democratic Republic of the Congo\n",
      "Democratic Republic of the Congo\n",
      "Turkey\n",
      "Syria\n",
      "Pakistan\n",
      "Italy\n",
      "Turkey\n",
      "Turkey\n",
      "Somalia\n"
     ]
    }
   ],
   "source": [
    "#print 10 country names\n",
    "import csv\n",
    "with open(\"year2017.csv\",\"r\") as file_obj:\n",
    "    file_data=csv.DictReader(file_obj,skipinitialspace=True)\n",
    "    list_file=list(file_data)\n",
    "    for row in list_file[:11]:\n",
    "        print(row[\"Country\"])"
   ]
  },
  {
   "cell_type": "code",
   "execution_count": 90,
   "id": "c4f2cc44",
   "metadata": {},
   "outputs": [
    {
     "data": {
      "text/plain": [
       "{'Afghanistan': 6027,\n",
       " 'Sudan': 176,\n",
       " 'Democratic Republic of the Congo': 193,\n",
       " 'Turkey': 328,\n",
       " 'Syria': 1303,\n",
       " 'Pakistan': 2091,\n",
       " 'Italy': 8,\n",
       " 'Somalia': 1287,\n",
       " 'Yemen': 722,\n",
       " 'Bahrain': 26,\n",
       " 'Myanmar': 35,\n",
       " 'Burundi': 127,\n",
       " 'Iraq': 4916,\n",
       " 'Egypt': 626,\n",
       " 'Burkina Faso': 45,\n",
       " 'India': 702,\n",
       " 'Algeria': 19,\n",
       " 'United States': 932,\n",
       " 'Philippines': 674,\n",
       " 'Greece': 7,\n",
       " 'Mali': 347,\n",
       " 'Libya': 171,\n",
       " 'Central African Republic': 239,\n",
       " 'Nigeria': 1031,\n",
       " 'Lebanon': 49,\n",
       " 'Mexico': 6,\n",
       " 'Cameroon': 243,\n",
       " 'Ethiopia': 53,\n",
       " 'Kyrgyzstan': 0,\n",
       " 'Serbia': 1,\n",
       " 'Sweden': 32,\n",
       " 'Thailand': 270,\n",
       " 'Iran': 67,\n",
       " 'France': 28,\n",
       " 'United Kingdom': 301,\n",
       " 'West Bank and Gaza Strip': 75,\n",
       " 'Ukraine': 64,\n",
       " 'Paraguay': 1,\n",
       " 'Colombia': 117,\n",
       " 'Malaysia': 2,\n",
       " 'Russia': 114,\n",
       " 'Kosovo': 4,\n",
       " 'South Africa': 7,\n",
       " 'Chile': 2,\n",
       " 'Kenya': 97,\n",
       " 'Israel': 15,\n",
       " 'Saudi Arabia': 69,\n",
       " 'China': 76,\n",
       " 'Nepal': 94,\n",
       " 'Ecuador': 0,\n",
       " 'Niger': 72,\n",
       " 'Venezuela': 32,\n",
       " 'South Sudan': 258,\n",
       " 'Canada': 25,\n",
       " 'Bangladesh': 73,\n",
       " 'Tajikistan': 0,\n",
       " 'Angola': 411,\n",
       " 'Ireland': 0,\n",
       " 'Peru': 4,\n",
       " 'Dominican Republic': 1,\n",
       " 'Poland': 0,\n",
       " 'Jordan': 1,\n",
       " 'Azerbaijan': 2,\n",
       " 'Mozambique': 11,\n",
       " 'Indonesia': 27,\n",
       " 'Germany': 10,\n",
       " 'Brazil': 0,\n",
       " 'Macedonia': 0,\n",
       " 'Tunisia': 5,\n",
       " 'Uganda': 2,\n",
       " 'Chad': 1,\n",
       " 'Finland': 10,\n",
       " 'Australia': 21,\n",
       " 'Norway': 0,\n",
       " 'Vietnam': 0,\n",
       " 'Tanzania': 4,\n",
       " 'Sierra Leone': 0,\n",
       " 'Sri Lanka': 3,\n",
       " 'Maldives': 0,\n",
       " 'Belgium': 2,\n",
       " 'Rwanda': 8,\n",
       " 'Honduras': 0,\n",
       " 'Czech Republic': 0,\n",
       " 'Malta': 0,\n",
       " 'Gabon': 2,\n",
       " 'Laos': 0,\n",
       " 'Djibouti': 0,\n",
       " 'Austria': 0,\n",
       " 'Zambia': 0,\n",
       " 'Argentina': 0,\n",
       " 'Papua New Guinea': 3,\n",
       " 'Zimbabwe': 1,\n",
       " 'Ivory Coast': 2,\n",
       " 'Spain': 111,\n",
       " 'Taiwan': 1,\n",
       " 'Jamaica': 0,\n",
       " 'Albania': 0,\n",
       " 'Liberia': 0,\n",
       " 'Georgia': 5,\n",
       " 'Malawi': 0,\n",
       " 'Netherlands': 0,\n",
       " 'Latvia': 0}"
      ]
     },
     "execution_count": 90,
     "metadata": {},
     "output_type": "execute_result"
    }
   ],
   "source": [
    "#find the total number of wounded people countrywise\n",
    "import csv\n",
    "with open(\"year2017.csv\",\"r\") as file_obj:\n",
    "    file_data=csv.DictReader(file_obj,skipinitialspace=True)\n",
    "    list_file=list(file_data)\n",
    "wounded={}\n",
    "for row in list_file:\n",
    "    key=row[\"Country\"]\n",
    "    value=row[\"Wounded\"]\n",
    "    if value != \"\":\n",
    "        value=int(float(value))\n",
    "    else:\n",
    "        value=0\n",
    "    if key in wounded:\n",
    "        wounded[key]+=value\n",
    "    else:\n",
    "        wounded[key]=value\n",
    "wounded\n",
    "        "
   ]
  },
  {
   "cell_type": "code",
   "execution_count": 8,
   "id": "4b66f321",
   "metadata": {},
   "outputs": [
    {
     "name": "stdout",
     "output_type": "stream",
     "text": [
      "24927\n"
     ]
    }
   ],
   "source": [
    "import csv\n",
    "with open(\"year2017.csv\",\"r\") as file_obj:\n",
    "    file_data=csv.reader(file_obj,skipinitialspace=True)\n",
    "    list_file=list(file_data)\n",
    "\n",
    "wounded=[]\n",
    "for row in list_file[1:]:\n",
    "    val=row[10]\n",
    "    if val!=\"\":\n",
    "        wounded.append(int(float(val)))\n",
    "    \n",
    "print(sum(wounded))\n",
    "    \n"
   ]
  },
  {
   "cell_type": "code",
   "execution_count": 7,
   "id": "01127703",
   "metadata": {},
   "outputs": [
    {
     "name": "stdout",
     "output_type": "stream",
     "text": [
      "24927\n"
     ]
    }
   ],
   "source": [
    "import csv\n",
    "with open(\"year2017.csv\",\"r\") as file_obj:\n",
    "    file_data=csv.reader(file_obj,skipinitialspace=True)\n",
    "    list_file=list(file_data)\n",
    "wounded=[]\n",
    "for row in list_file[1:]:\n",
    "    val=row[10]\n",
    "    if val!=\"\":\n",
    "        try:\n",
    "            wounded.append(int(float(val)))\n",
    "        except:\n",
    "            print(f\"Skipping non-numeric value: {val}\")\n",
    "    \n",
    "print(sum(wounded))\n",
    "    "
   ]
  },
  {
   "cell_type": "code",
   "execution_count": null,
   "id": "f91ca129",
   "metadata": {},
   "outputs": [],
   "source": []
  },
  {
   "cell_type": "code",
   "execution_count": null,
   "id": "59fc3b2b",
   "metadata": {},
   "outputs": [],
   "source": []
  }
 ],
 "metadata": {
  "kernelspec": {
   "display_name": "Python 3 (ipykernel)",
   "language": "python",
   "name": "python3"
  },
  "language_info": {
   "codemirror_mode": {
    "name": "ipython",
    "version": 3
   },
   "file_extension": ".py",
   "mimetype": "text/x-python",
   "name": "python",
   "nbconvert_exporter": "python",
   "pygments_lexer": "ipython3",
   "version": "3.11.4"
  }
 },
 "nbformat": 4,
 "nbformat_minor": 5
}
