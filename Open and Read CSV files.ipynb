{
 "cells": [
  {
   "cell_type": "code",
   "execution_count": 3,
   "id": "de00eba5",
   "metadata": {},
   "outputs": [
    {
     "name": "stdout",
     "output_type": "stream",
     "text": [
      "['Year,Month,Day,Country,Region,city,latitude,longitude,AttackType,Killed,Wounded,Target,Group,Target_type,Weapon_type,casualities\\n', '2017,1,2,Afghanistan,South Asia,Takhta Pul,31.320556,65.961111,Hostage Taking (Kidnapping),0.0,0.0,Construction Workers,Taliban,Business,Firearms,0.0\\n', '2017,1,3,Sudan,Sub-Saharan Africa,Fantaga,12.921007000000001,24.318324,Armed Assault,2.0,0.0,\"Civilians: Haroun Yousif, Hamid Ibrahim\",Unknown,Private Citizens & Property,Firearms,2.0\\n', '2017,1,1,Democratic Republic of the Congo,Sub-Saharan Africa,Saboko,1.452372,29.875162,Armed Assault,7.0,0.0,Village,Allied Democratic Forces (ADF),Private Citizens & Property,Melee,7.0\\n', '2017,1,1,Democratic Republic of the Congo,Sub-Saharan Africa,Bialee,1.4523700000000002,29.875186,Armed Assault,7.0,0.0,Village,Allied Democratic Forces (ADF),Private Citizens & Property,Melee,7.0\\n']\n"
     ]
    }
   ],
   "source": [
    "with open(\"year2017.csv\",\"r\") as file_object:\n",
    "    file_data=file_object.readlines()\n",
    "print(file_data[:5])"
   ]
  },
  {
   "cell_type": "code",
   "execution_count": 2,
   "id": "8fdf3536",
   "metadata": {},
   "outputs": [
    {
     "ename": "NameError",
     "evalue": "name 'roew' is not defined",
     "output_type": "error",
     "traceback": [
      "\u001b[1;31m---------------------------------------------------------------------------\u001b[0m",
      "\u001b[1;31mNameError\u001b[0m                                 Traceback (most recent call last)",
      "Cell \u001b[1;32mIn[2], line 6\u001b[0m\n\u001b[0;32m      3\u001b[0m     file_data\u001b[38;5;241m=\u001b[39mcsv\u001b[38;5;241m.\u001b[39mreader(file_object)\n\u001b[0;32m      5\u001b[0m     \u001b[38;5;28;01mfor\u001b[39;00m row \u001b[38;5;129;01min\u001b[39;00m file_data:\n\u001b[1;32m----> 6\u001b[0m         \u001b[38;5;28mprint\u001b[39m(roew)\n\u001b[0;32m      7\u001b[0m \u001b[38;5;28mprint\u001b[39m(\u001b[38;5;28mtype\u001b[39m(file_data))\n",
      "\u001b[1;31mNameError\u001b[0m: name 'roew' is not defined"
     ]
    }
   ],
   "source": [
    "import csv\n",
    "with open(\"year2017.csv\",\"r\") as file_object:\n",
    "    file_data=csv.reader(file_object)\n",
    "    \n",
    "    for row in file_data:\n",
    "        print(roew)\n",
    "print(type(file_data))"
   ]
  },
  {
   "cell_type": "code",
   "execution_count": null,
   "id": "fc193951",
   "metadata": {},
   "outputs": [],
   "source": []
  }
 ],
 "metadata": {
  "kernelspec": {
   "display_name": "Python 3 (ipykernel)",
   "language": "python",
   "name": "python3"
  },
  "language_info": {
   "codemirror_mode": {
    "name": "ipython",
    "version": 3
   },
   "file_extension": ".py",
   "mimetype": "text/x-python",
   "name": "python",
   "nbconvert_exporter": "python",
   "pygments_lexer": "ipython3",
   "version": "3.11.4"
  }
 },
 "nbformat": 4,
 "nbformat_minor": 5
}
