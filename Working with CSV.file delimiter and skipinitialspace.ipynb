{
 "cells": [
  {
   "cell_type": "code",
   "execution_count": 15,
   "id": "219f6bcb",
   "metadata": {},
   "outputs": [
    {
     "name": "stdout",
     "output_type": "stream",
     "text": [
      "['Year|  Month|  Day|  Country|  Region|  city']\n",
      "['2017| 1|2| Afghanistan| South Asia | Takhta Pul']\n",
      "['2017| 1|3| Sudan| Sub-Saharan Africa| Fantaga']\n",
      "['2017| 1|1| Democratic Republic of the Congo|  Sub-Saharan Africa|  Saboko']\n",
      "['2017| 1|1| Democratic Republic of the Congo|  Sub-Saharan Africa|  Bialee']\n"
     ]
    }
   ],
   "source": [
    "import csv\n",
    "with open(\"Mades.csv.txt\",\"r\") as file_object:\n",
    "    file_data=csv.reader(file_object)\n",
    "    for row in file_data:\n",
    "        print(row)\n",
    "        \n",
    "        "
   ]
  },
  {
   "cell_type": "code",
   "execution_count": 19,
   "id": "ab345250",
   "metadata": {},
   "outputs": [
    {
     "name": "stdout",
     "output_type": "stream",
     "text": [
      "['Year', '  Month', '  Day', '  Country', '  Region', '  city']\n",
      "['2017', ' 1', '2', ' Afghanistan', ' South Asia ', ' Takhta Pul']\n",
      "['2017', ' 1', '3', ' Sudan', ' Sub-Saharan Africa', ' Fantaga']\n",
      "['2017', ' 1', '1', ' Democratic Republic of the Congo', '  Sub-Saharan Africa', '  Saboko']\n",
      "['2017', ' 1', '1', ' Democratic Republic of the Congo', '  Sub-Saharan Africa', '  Bialee']\n"
     ]
    }
   ],
   "source": [
    "import csv\n",
    "with open(\"Mades.csv.txt\",\"r\") as file_object:\n",
    "    file_data=csv.reader(file_object,delimiter='|')\n",
    "    for row in file_data:\n",
    "        print(row)"
   ]
  },
  {
   "cell_type": "code",
   "execution_count": 21,
   "id": "16e29717",
   "metadata": {},
   "outputs": [
    {
     "name": "stdout",
     "output_type": "stream",
     "text": [
      "['Year', 'Month', 'Day', 'Country', 'Region', 'city']\n",
      "['2017', '1', '2', 'Afghanistan', 'South Asia ', 'Takhta Pul']\n",
      "['2017', '1', '3', 'Sudan', 'Sub-Saharan Africa', 'Fantaga']\n",
      "['2017', '1', '1', 'Democratic Republic of the Congo', 'Sub-Saharan Africa', 'Saboko']\n",
      "['2017', '1', '1', 'Democratic Republic of the Congo', 'Sub-Saharan Africa', 'Bialee']\n"
     ]
    }
   ],
   "source": [
    "import csv\n",
    "with open(\"Mades.csv.txt\",\"r\") as file_object:\n",
    "    file_data=csv.reader(file_object,delimiter='|',skipinitialspace=True)\n",
    "    for row in file_data:\n",
    "        print(row)"
   ]
  },
  {
   "cell_type": "code",
   "execution_count": 32,
   "id": "529fdb7d",
   "metadata": {},
   "outputs": [
    {
     "name": "stdout",
     "output_type": "stream",
     "text": [
      "[['Year', 'Month', 'Day', 'Country', 'Region', 'city'], ['2017', '1', '2', 'Afghanistan', 'South Asia ', 'Takhta Pul'], ['2017', '1', '3', 'Sudan', 'Sub-Saharan Africa', 'Fantaga'], ['2017', '1', '1', 'Democratic Republic of the Congo', 'Sub-Saharan Africa', 'Saboko'], ['2017', '1', '1', 'Democratic Republic of the Congo', 'Sub-Saharan Africa', 'Bialee']]\n"
     ]
    }
   ],
   "source": [
    "import csv\n",
    "with open(\"Mades.csv.txt\",\"r\") as file_object:\n",
    "    file_data=csv.reader(file_object,delimiter=\"|\",skipinitialspace=True)\n",
    "    list_file=list(file_data)\n",
    "print(list_file)"
   ]
  },
  {
   "cell_type": "code",
   "execution_count": null,
   "id": "b60d38af",
   "metadata": {},
   "outputs": [],
   "source": []
  },
  {
   "cell_type": "code",
   "execution_count": null,
   "id": "d32f2eaf",
   "metadata": {},
   "outputs": [],
   "source": []
  }
 ],
 "metadata": {
  "kernelspec": {
   "display_name": "Python 3 (ipykernel)",
   "language": "python",
   "name": "python3"
  },
  "language_info": {
   "codemirror_mode": {
    "name": "ipython",
    "version": 3
   },
   "file_extension": ".py",
   "mimetype": "text/x-python",
   "name": "python",
   "nbconvert_exporter": "python",
   "pygments_lexer": "ipython3",
   "version": "3.11.4"
  }
 },
 "nbformat": 4,
 "nbformat_minor": 5
}
